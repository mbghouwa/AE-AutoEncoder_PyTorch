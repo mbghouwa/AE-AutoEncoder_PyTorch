{
 "cells": [
  {
   "cell_type": "markdown",
   "metadata": {},
   "source": [
    "# AutoEncoding Neural Network on MNIST"
   ]
  },
  {
   "cell_type": "markdown",
   "metadata": {},
   "source": [
    "## Imports and Data Loading"
   ]
  },
  {
   "cell_type": "code",
   "execution_count": 1,
   "metadata": {},
   "outputs": [],
   "source": [
    "from __future__ import print_function\n",
    "import os\n",
    "import torch\n",
    "import torch.utils.data\n",
    "from torch import nn, optim\n",
    "from torch.nn import functional as F\n",
    "from torchvision import datasets, transforms\n",
    "from torchvision.utils import save_image\n",
    "import matplotlib.pyplot as plt\n",
    "\n",
    "batchsize = 128\n",
    "epochs=25\n",
    "loginterval=10\n",
    "\n",
    "SEED = 1\n",
    "torch.manual_seed(SEED)\n",
    "cuda = torch.cuda.is_available()\n",
    "\n",
    "#device = torch.device(\"cuda\" if cuda else \"cpu\")\n",
    "device = torch.device(\"cpu\")\n",
    "\n",
    "\n",
    "\n",
    "kwargs = {'num_workers': 4, 'pin_memory': True}\n",
    "train_loader = torch.utils.data.DataLoader(\n",
    "    datasets.MNIST('../data', train=True, download=True,\n",
    "                   transform=transforms.ToTensor()),\n",
    "    batch_size=batchsize, shuffle=True, **kwargs)\n",
    "test_loader = torch.utils.data.DataLoader(\n",
    "    datasets.MNIST('../data', train=False, transform=transforms.ToTensor()),\n",
    "    batch_size=batchsize, shuffle=True, **kwargs)"
   ]
  },
  {
   "cell_type": "markdown",
   "metadata": {},
   "source": [
    "## Model Definition"
   ]
  },
  {
   "cell_type": "markdown",
   "metadata": {},
   "source": [
    "### Model 1 : Simple AE"
   ]
  },
  {
   "cell_type": "markdown",
   "metadata": {},
   "source": [
    "We chose to work with the following configuration :\n",
    "\n",
    "* Fully Connected Layers (784,400) and (400,20) with a ReLu activation fuction,\n",
    "* The Loss Function considered is a BCE,\n",
    "* The Encoder and the Decoder are symmetric."
   ]
  },
  {
   "cell_type": "code",
   "execution_count": 2,
   "metadata": {},
   "outputs": [],
   "source": [
    "class simple_ae(nn.Module):\n",
    "    def __init__(self):\n",
    "        super(simple_ae, self).__init__()\n",
    "        # encoder :FC (784 -> 400), RELU activation; FC (400, 20)\n",
    "        self.encoder = nn.Sequential(\n",
    "                nn.Linear(784, 400),\n",
    "                nn.ReLU(),\n",
    "                nn.Linear(400, 20),\n",
    "                )\n",
    "        # decoder :FC (20 -> 400), RELU activation; FC (400, 784)\n",
    "        self.decoder = nn.Sequential(\n",
    "                nn.Linear(20, 400),\n",
    "                nn.ReLU(),\n",
    "                nn.Linear(400, 784),\n",
    "                )\n",
    "\n",
    "    def encode(self, x):\n",
    "        return self.encoder(x)\n",
    "\n",
    "    def decode(self, z):\n",
    "        return torch.sigmoid(self.decoder(z))\n",
    "\n",
    "    def forward(self, x):\n",
    "        xview = x.view(-1,784)\n",
    "        z = self.encode(xview)\n",
    "        return self.decode(z)\n",
    "\n",
    "mod1 = simple_ae()\n",
    "optimizer = optim.Adam(mod1.parameters(), lr=1e-3)"
   ]
  },
  {
   "cell_type": "code",
   "execution_count": 4,
   "metadata": {},
   "outputs": [],
   "source": [
    "def loss_function_bce(recon_batch, x):\n",
    "    #compute bce as the binary cross entropy across the batch as a sum\n",
    "    bce = nn.BCELoss(size_average=False)\n",
    "    return bce(recon_batch, x)\n",
    "\n",
    "writing_path1=\"../generated_ae/mod1/\"\n",
    "os.system(\"mkdir -p %s\"%writing_path1)\n",
    "losses=list()"
   ]
  },
  {
   "cell_type": "markdown",
   "metadata": {},
   "source": [
    "### Model 2 : A more elaborated AE"
   ]
  },
  {
   "cell_type": "markdown",
   "metadata": {},
   "source": [
    "We chose to work with the following configuration :\n",
    "\n",
    "* Fully Connected Layers (784,128), (128,128), (128,16) and (16,4) with a ReLu activation fuction,\n",
    "* The Loss Function considered is a MSE,\n",
    "* The Encoder and the Decoder are symmetric."
   ]
  },
  {
   "cell_type": "code",
   "execution_count": 13,
   "metadata": {},
   "outputs": [],
   "source": [
    "class elab_ae(nn.Module):\n",
    "    def __init__(self):\n",
    "        super(elab_ae, self).__init__()\n",
    "        # create using nn.Sequential()\n",
    "        # encoder :FC (784 -> 400), RELU activation; FC (400, 20)\n",
    "        # decoder :FC (20 -> 400), RELU activation; FC (400, 784)\n",
    "        self.encoder = nn.Sequential(\n",
    "                nn.Linear(784, 128),\n",
    "                nn.ReLU(),\n",
    "                nn.Linear(128, 128),\n",
    "                nn.ReLU(),\n",
    "                nn.Linear(128,16),\n",
    "                nn.ReLU(),\n",
    "                nn.Linear(16,4)\n",
    "                )\n",
    "        self.decoder = nn.Sequential(\n",
    "                nn.Linear(4, 16),\n",
    "                nn.ReLU(),\n",
    "                nn.Linear(16, 128),\n",
    "                nn.ReLU(),\n",
    "                nn.Linear(128,128),\n",
    "                nn.ReLU(),\n",
    "                nn.Linear(128,784)\n",
    "                )\n",
    "\n",
    "    def encode(self, x):\n",
    "        return self.encoder(x)\n",
    "\n",
    "    def decode(self, z):\n",
    "        return torch.sigmoid(self.decoder(z))\n",
    "\n",
    "    def forward(self, x):\n",
    "        xview = x.view(-1,784)\n",
    "        z = self.encode(xview)\n",
    "        return self.decode(z)\n",
    "\n",
    "mod2 = elab_ae()\n",
    "optimizer = optim.Adam(mod2.parameters(), lr=1e-3)"
   ]
  },
  {
   "cell_type": "code",
   "execution_count": 14,
   "metadata": {},
   "outputs": [],
   "source": [
    "def loss_function_mse(recon_batch, x):\n",
    "    #compute bce as the bin0ary cross entropy across the batch as a sum\n",
    "    mse = nn.MSELoss(size_average=False)\n",
    "    return mse(recon_batch, x)\n",
    "\n",
    "writing_path2=\"../generated_ae/mod2/\"\n",
    "os.system(\"mkdir -p %s\"%writing_path2)\n",
    "losses,losses_bup=list(),losses"
   ]
  },
  {
   "cell_type": "markdown",
   "metadata": {},
   "source": [
    "## Definition of Train and Test functions"
   ]
  },
  {
   "cell_type": "code",
   "execution_count": 3,
   "metadata": {},
   "outputs": [],
   "source": [
    "def train(epoch,model,l_function):\n",
    "    model.train()\n",
    "    train_loss = 0\n",
    "    for batch_idx, (data, _) in enumerate(train_loader):\n",
    "        data = data.to(device)\n",
    "        optimizer.zero_grad()\n",
    "        recon_batch = model(data)\n",
    "        loss = l_function(recon_batch, data.view(-1, 784))\n",
    "        losses.append(loss.to(device).item())\n",
    "        loss.backward()\n",
    "        train_loss += loss.item()\n",
    "        optimizer.step()\n",
    "        if batch_idx % loginterval == 0:\n",
    "            print('\\r Train Epoch: {} [{}/{} ({:.0f}%)]\\tLoss: {:.1f}'.format(\n",
    "                epoch, batch_idx * len(data), len(train_loader.dataset),\n",
    "                100. * batch_idx / len(train_loader),\n",
    "                loss.item() / len(data)), end='')\n",
    "\n",
    "    print(' Average loss: {:.1f}'.format(\n",
    "          train_loss / len(train_loader.dataset)), end='')\n",
    "\n",
    "def test(epoch,writing_path,model,l_function):\n",
    "    model.eval()\n",
    "    test_loss = 0\n",
    "    with torch.no_grad():\n",
    "        for i, (data, _) in enumerate(test_loader):\n",
    "            data = data.to(device)\n",
    "            recon_batch = model(data)\n",
    "            test_loss += l_function(recon_batch, data.view(-1, 784))\n",
    "\n",
    "            if i == 0:\n",
    "                n = min(data.size(0), 8)\n",
    "                comparison = torch.cat([data[:n],\n",
    "                                      recon_batch.view(batchsize, 1, 28, 28)[:n]])\n",
    "                save_image(comparison.cpu(),\n",
    "                         writing_path + 'reconstruction_' + str(epoch) + '.png', nrow=n)\n",
    "\n",
    "    test_loss /= len(test_loader.dataset)\n",
    "    print(' Test loss: {:.1f}'.format(test_loss))"
   ]
  },
  {
   "cell_type": "markdown",
   "metadata": {},
   "source": [
    "## Training Phase and Losses tracking"
   ]
  },
  {
   "cell_type": "markdown",
   "metadata": {},
   "source": [
    "### Model 1 :"
   ]
  },
  {
   "cell_type": "code",
   "execution_count": 6,
   "metadata": {},
   "outputs": [
    {
     "name": "stdout",
     "output_type": "stream",
     "text": [
      " Train Epoch: 1 [58880/60000 (98%)]\tLoss: 84.5 Average loss: 83.4 Test loss: 78.2\n",
      " Train Epoch: 2 [58880/60000 (98%)]\tLoss: 77.0 Average loss: 77.0 Test loss: 74.5\n",
      " Train Epoch: 3 [58880/60000 (98%)]\tLoss: 76.2 Average loss: 74.2 Test loss: 72.6\n",
      " Train Epoch: 4 [58880/60000 (98%)]\tLoss: 73.3 Average loss: 72.4 Test loss: 71.4\n",
      " Train Epoch: 5 [58880/60000 (98%)]\tLoss: 69.6 Average loss: 71.2 Test loss: 70.3\n",
      " Train Epoch: 6 [58880/60000 (98%)]\tLoss: 69.8 Average loss: 70.2 Test loss: 69.5\n",
      " Train Epoch: 7 [58880/60000 (98%)]\tLoss: 71.3 Average loss: 69.4 Test loss: 68.9\n",
      " Train Epoch: 8 [58880/60000 (98%)]\tLoss: 68.5 Average loss: 68.8 Test loss: 68.5\n",
      " Train Epoch: 9 [58880/60000 (98%)]\tLoss: 69.3 Average loss: 68.3 Test loss: 68.1\n",
      " Train Epoch: 10 [58880/60000 (98%)]\tLoss: 67.3 Average loss: 67.9 Test loss: 67.7\n",
      " Train Epoch: 11 [58880/60000 (98%)]\tLoss: 69.2 Average loss: 67.5 Test loss: 67.3\n",
      " Train Epoch: 12 [58880/60000 (98%)]\tLoss: 66.9 Average loss: 67.1 Test loss: 67.1\n",
      " Train Epoch: 13 [58880/60000 (98%)]\tLoss: 64.8 Average loss: 66.8 Test loss: 66.9\n",
      " Train Epoch: 14 [58880/60000 (98%)]\tLoss: 64.3 Average loss: 66.5 Test loss: 66.7\n",
      " Train Epoch: 15 [58880/60000 (98%)]\tLoss: 66.8 Average loss: 66.3 Test loss: 66.3\n",
      " Train Epoch: 16 [58880/60000 (98%)]\tLoss: 66.7 Average loss: 66.1 Test loss: 66.3\n",
      " Train Epoch: 17 [58880/60000 (98%)]\tLoss: 67.8 Average loss: 65.9 Test loss: 66.1\n",
      " Train Epoch: 18 [58880/60000 (98%)]\tLoss: 64.1 Average loss: 65.7 Test loss: 66.1\n",
      " Train Epoch: 19 [58880/60000 (98%)]\tLoss: 64.7 Average loss: 65.5 Test loss: 65.8\n",
      " Train Epoch: 20 [58880/60000 (98%)]\tLoss: 64.5 Average loss: 65.4 Test loss: 65.7\n",
      " Train Epoch: 21 [58880/60000 (98%)]\tLoss: 65.9 Average loss: 65.2 Test loss: 65.6\n",
      " Train Epoch: 22 [58880/60000 (98%)]\tLoss: 63.8 Average loss: 65.1 Test loss: 65.5\n",
      " Train Epoch: 23 [58880/60000 (98%)]\tLoss: 65.0 Average loss: 65.0 Test loss: 65.5\n",
      " Train Epoch: 24 [58880/60000 (98%)]\tLoss: 65.9 Average loss: 64.9 Test loss: 65.3\n",
      " Train Epoch: 25 [58880/60000 (98%)]\tLoss: 64.8 Average loss: 64.8 Test loss: 65.3\n"
     ]
    }
   ],
   "source": [
    "for epoch in range(1, epochs + 1):\n",
    "    train(epoch,mod1,loss_function_bce)\n",
    "    test(epoch,writing_path1,mod1,loss_function_bce)\n",
    "    with torch.no_grad():\n",
    "     sample = torch.randn(64, 20).to(device)\n",
    "     sample = mod1.decode(sample).cpu()\n",
    "     save_image(sample.view(64, 1, 28, 28), writing_path1 + 'sample_' + str(epoch) + '.png')"
   ]
  },
  {
   "cell_type": "code",
   "execution_count": 7,
   "metadata": {},
   "outputs": [
    {
     "data": {
      "text/plain": [
       "[<matplotlib.lines.Line2D at 0x7f0fe09b3a90>]"
      ]
     },
     "execution_count": 7,
     "metadata": {},
     "output_type": "execute_result"
    },
    {
     "data": {
      "image/png": "[encoded data removed]",
      "text/plain": [
       "<Figure size 432x288 with 1 Axes>"
      ]
     },
     "metadata": {
      "needs_background": "light"
     },
     "output_type": "display_data"
    }
   ],
   "source": [
    "plt.plot(losses)"
   ]
  },
  {
   "cell_type": "markdown",
   "metadata": {},
   "source": [
    "### Model 2 :"
   ]
  },
  {
   "cell_type": "code",
   "execution_count": 16,
   "metadata": {},
   "outputs": [
    {
     "name": "stdout",
     "output_type": "stream",
     "text": [
      " Train Epoch: 1 [58880/60000 (98%)]\tLoss: 29.8 Average loss: 34.1 Test loss: 30.8\n",
      " Train Epoch: 2 [58880/60000 (98%)]\tLoss: 28.6 Average loss: 29.5 Test loss: 28.3\n",
      " Train Epoch: 3 [58880/60000 (98%)]\tLoss: 25.1 Average loss: 27.6 Test loss: 26.9\n",
      " Train Epoch: 4 [58880/60000 (98%)]\tLoss: 28.8 Average loss: 26.5 Test loss: 26.1\n",
      " Train Epoch: 5 [58880/60000 (98%)]\tLoss: 25.6 Average loss: 25.7 Test loss: 25.4\n",
      " Train Epoch: 6 [58880/60000 (98%)]\tLoss: 22.9 Average loss: 25.1 Test loss: 24.8\n",
      " Train Epoch: 7 [58880/60000 (98%)]\tLoss: 25.1 Average loss: 24.6 Test loss: 24.3\n",
      " Train Epoch: 8 [58880/60000 (98%)]\tLoss: 22.3 Average loss: 24.2 Test loss: 24.0\n",
      " Train Epoch: 9 [58880/60000 (98%)]\tLoss: 21.4 Average loss: 23.8 Test loss: 23.7\n",
      " Train Epoch: 10 [58880/60000 (98%)]\tLoss: 22.6 Average loss: 23.5 Test loss: 23.5\n",
      " Train Epoch: 11 [58880/60000 (98%)]\tLoss: 23.4 Average loss: 23.3 Test loss: 23.2\n",
      " Train Epoch: 12 [58880/60000 (98%)]\tLoss: 23.2 Average loss: 23.0 Test loss: 23.1\n",
      " Train Epoch: 13 [58880/60000 (98%)]\tLoss: 22.9 Average loss: 22.8 Test loss: 22.9\n",
      " Train Epoch: 14 [58880/60000 (98%)]\tLoss: 22.9 Average loss: 22.6 Test loss: 22.6\n",
      " Train Epoch: 15 [58880/60000 (98%)]\tLoss: 23.7 Average loss: 22.4 Test loss: 22.5\n",
      " Train Epoch: 16 [58880/60000 (98%)]\tLoss: 22.4 Average loss: 22.3 Test loss: 22.4\n",
      " Train Epoch: 17 [58880/60000 (98%)]\tLoss: 23.5 Average loss: 22.2 Test loss: 22.3\n",
      " Train Epoch: 18 [58880/60000 (98%)]\tLoss: 21.1 Average loss: 22.0 Test loss: 22.3\n",
      " Train Epoch: 19 [58880/60000 (98%)]\tLoss: 21.4 Average loss: 21.9 Test loss: 22.1\n",
      " Train Epoch: 20 [58880/60000 (98%)]\tLoss: 21.4 Average loss: 21.8 Test loss: 22.0\n",
      " Train Epoch: 21 [58880/60000 (98%)]\tLoss: 20.9 Average loss: 21.7 Test loss: 22.0\n",
      " Train Epoch: 22 [58880/60000 (98%)]\tLoss: 20.9 Average loss: 21.6 Test loss: 21.9\n",
      " Train Epoch: 23 [58880/60000 (98%)]\tLoss: 19.9 Average loss: 21.5 Test loss: 21.8\n",
      " Train Epoch: 24 [58880/60000 (98%)]\tLoss: 20.7 Average loss: 21.5 Test loss: 21.8\n",
      " Train Epoch: 25 [58880/60000 (98%)]\tLoss: 22.2 Average loss: 21.4 Test loss: 21.8\n"
     ]
    }
   ],
   "source": [
    "for epoch in range(1, epochs + 1):\n",
    "    train(epoch,mod2,loss_function_mse)\n",
    "    test(epoch,writing_path2,mod2,loss_function_mse)\n",
    "    with torch.no_grad():\n",
    "     sample = torch.randn(64, 4).to(device)\n",
    "     sample = mod2.decode(sample).cpu()\n",
    "     save_image(sample.view(64, 1, 28, 28), writing_path2 + 'sample_' + str(epoch) + '.png')"
   ]
  },
  {
   "cell_type": "code",
   "execution_count": 17,
   "metadata": {},
   "outputs": [
    {
     "data": {
      "text/plain": [
       "[<matplotlib.lines.Line2D at 0x7f0fe06b66a0>]"
      ]
     },
     "execution_count": 17,
     "metadata": {},
     "output_type": "execute_result"
    },
    {
     "data": {
      "image/png": "[encoded data removed]",
      "text/plain": [
       "<Figure size 432x288 with 1 Axes>"
      ]
     },
     "metadata": {
      "needs_background": "light"
     },
     "output_type": "display_data"
    }
   ],
   "source": [
    "plt.plot(losses)"
   ]
  }
 ],
 "metadata": {
  "kernelspec": {
   "display_name": "Python 3",
   "language": "python",
   "name": "python3"
  },
  "language_info": {
   "codemirror_mode": {
    "name": "ipython",
    "version": 3
   },
   "file_extension": ".py",
   "mimetype": "text/x-python",
   "name": "python",
   "nbconvert_exporter": "python",
   "pygments_lexer": "ipython3",
   "version": "3.6.7"
  }
 },
 "nbformat": 4,
 "nbformat_minor": 2
}
